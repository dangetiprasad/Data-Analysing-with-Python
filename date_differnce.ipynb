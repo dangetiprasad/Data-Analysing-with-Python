{
  "nbformat": 4,
  "nbformat_minor": 0,
  "metadata": {
    "colab": {
      "name": "date_differnce.ipynb",
      "provenance": [],
      "authorship_tag": "ABX9TyNSJQdWzUwmAZbesvM+ylox",
      "include_colab_link": true
    },
    "kernelspec": {
      "name": "python3",
      "display_name": "Python 3"
    }
  },
  "cells": [
    {
      "cell_type": "markdown",
      "metadata": {
        "id": "view-in-github",
        "colab_type": "text"
      },
      "source": [
        "<a href=\"https://colab.research.google.com/github/dangetiprasad/Data-Analysing-with-Python/blob/master/date_differnce.ipynb\" target=\"_parent\"><img src=\"https://colab.research.google.com/assets/colab-badge.svg\" alt=\"Open In Colab\"/></a>"
      ]
    },
    {
      "cell_type": "code",
      "metadata": {
        "id": "bQkdYV6B9w91",
        "colab_type": "code",
        "colab": {}
      },
      "source": [
        "#importing all libraries\n",
        "import pandas as pd\n",
        "import numpy as np\n",
        "import re"
      ],
      "execution_count": 18,
      "outputs": []
    },
    {
      "cell_type": "code",
      "metadata": {
        "id": "grg_0xbZ-jam",
        "colab_type": "code",
        "colab": {
          "base_uri": "https://localhost:8080/",
          "height": 204
        },
        "outputId": "50b129b5-ce9e-42e3-ab67-ac2ad287875e"
      },
      "source": [
        "#sample dataset for testing purpose\n",
        "a=pd.DataFrame({'sam_dates':['12 june,2010','22/3/2011','may 5,2012','28/3/2011','22-3-2014'],'col1':[11,22,33,54,32]})\n",
        "a"
      ],
      "execution_count": 17,
      "outputs": [
        {
          "output_type": "execute_result",
          "data": {
            "text/html": [
              "<div>\n",
              "<style scoped>\n",
              "    .dataframe tbody tr th:only-of-type {\n",
              "        vertical-align: middle;\n",
              "    }\n",
              "\n",
              "    .dataframe tbody tr th {\n",
              "        vertical-align: top;\n",
              "    }\n",
              "\n",
              "    .dataframe thead th {\n",
              "        text-align: right;\n",
              "    }\n",
              "</style>\n",
              "<table border=\"1\" class=\"dataframe\">\n",
              "  <thead>\n",
              "    <tr style=\"text-align: right;\">\n",
              "      <th></th>\n",
              "      <th>sam_dates</th>\n",
              "      <th>col1</th>\n",
              "    </tr>\n",
              "  </thead>\n",
              "  <tbody>\n",
              "    <tr>\n",
              "      <th>0</th>\n",
              "      <td>12 june,2010</td>\n",
              "      <td>11</td>\n",
              "    </tr>\n",
              "    <tr>\n",
              "      <th>1</th>\n",
              "      <td>22/3/2011</td>\n",
              "      <td>22</td>\n",
              "    </tr>\n",
              "    <tr>\n",
              "      <th>2</th>\n",
              "      <td>may 5,2012</td>\n",
              "      <td>33</td>\n",
              "    </tr>\n",
              "    <tr>\n",
              "      <th>3</th>\n",
              "      <td>28/3/2011</td>\n",
              "      <td>54</td>\n",
              "    </tr>\n",
              "    <tr>\n",
              "      <th>4</th>\n",
              "      <td>22-3-2014</td>\n",
              "      <td>32</td>\n",
              "    </tr>\n",
              "  </tbody>\n",
              "</table>\n",
              "</div>"
            ],
            "text/plain": [
              "      sam_dates  col1\n",
              "0  12 june,2010    11\n",
              "1     22/3/2011    22\n",
              "2    may 5,2012    33\n",
              "3     28/3/2011    54\n",
              "4     22-3-2014    32"
            ]
          },
          "metadata": {
            "tags": []
          },
          "execution_count": 17
        }
      ]
    },
    {
      "cell_type": "markdown",
      "metadata": {
        "id": "HcqnNjqvHoS-",
        "colab_type": "text"
      },
      "source": [
        "## User defined function to check for date presented columns and make a new column to return their difference between these dates"
      ]
    },
    {
      "cell_type": "code",
      "metadata": {
        "id": "OEai-lXRDpJt",
        "colab_type": "code",
        "colab": {
          "base_uri": "https://localhost:8080/",
          "height": 204
        },
        "outputId": "239be35b-65dd-4c9b-a2a2-cb4034d840cb"
      },
      "source": [
        "def detect_dates(data):\n",
        "  a1=data.columns\n",
        "  for i in a1:\n",
        "    for x in data[i].values:\n",
        "      if re.findall(r'\\W\\d\\w',str(x)):\n",
        "        data[i]=pd.to_datetime(data[i])\n",
        "        if np.dtype(data[i]) == np.dtype('<M8[ns]'):\n",
        "          data['difference']=data[i].diff().fillna(pd.Timedelta(seconds=0))\n",
        "  return data\n",
        "  #we are applying sample dataset a here\n",
        "detect_dates(a)"
      ],
      "execution_count": 19,
      "outputs": [
        {
          "output_type": "execute_result",
          "data": {
            "text/html": [
              "<div>\n",
              "<style scoped>\n",
              "    .dataframe tbody tr th:only-of-type {\n",
              "        vertical-align: middle;\n",
              "    }\n",
              "\n",
              "    .dataframe tbody tr th {\n",
              "        vertical-align: top;\n",
              "    }\n",
              "\n",
              "    .dataframe thead th {\n",
              "        text-align: right;\n",
              "    }\n",
              "</style>\n",
              "<table border=\"1\" class=\"dataframe\">\n",
              "  <thead>\n",
              "    <tr style=\"text-align: right;\">\n",
              "      <th></th>\n",
              "      <th>sam_dates</th>\n",
              "      <th>col1</th>\n",
              "      <th>difference</th>\n",
              "    </tr>\n",
              "  </thead>\n",
              "  <tbody>\n",
              "    <tr>\n",
              "      <th>0</th>\n",
              "      <td>2010-06-12</td>\n",
              "      <td>11</td>\n",
              "      <td>0 days</td>\n",
              "    </tr>\n",
              "    <tr>\n",
              "      <th>1</th>\n",
              "      <td>2011-03-22</td>\n",
              "      <td>22</td>\n",
              "      <td>283 days</td>\n",
              "    </tr>\n",
              "    <tr>\n",
              "      <th>2</th>\n",
              "      <td>2012-05-05</td>\n",
              "      <td>33</td>\n",
              "      <td>410 days</td>\n",
              "    </tr>\n",
              "    <tr>\n",
              "      <th>3</th>\n",
              "      <td>2011-03-28</td>\n",
              "      <td>54</td>\n",
              "      <td>-404 days</td>\n",
              "    </tr>\n",
              "    <tr>\n",
              "      <th>4</th>\n",
              "      <td>2014-03-22</td>\n",
              "      <td>32</td>\n",
              "      <td>1090 days</td>\n",
              "    </tr>\n",
              "  </tbody>\n",
              "</table>\n",
              "</div>"
            ],
            "text/plain": [
              "   sam_dates  col1 difference\n",
              "0 2010-06-12    11     0 days\n",
              "1 2011-03-22    22   283 days\n",
              "2 2012-05-05    33   410 days\n",
              "3 2011-03-28    54  -404 days\n",
              "4 2014-03-22    32  1090 days"
            ]
          },
          "metadata": {
            "tags": []
          },
          "execution_count": 19
        }
      ]
    },
    {
      "cell_type": "code",
      "metadata": {
        "id": "921TMNHT-hud",
        "colab_type": "code",
        "colab": {}
      },
      "source": [
        ""
      ],
      "execution_count": null,
      "outputs": []
    }
  ]
}